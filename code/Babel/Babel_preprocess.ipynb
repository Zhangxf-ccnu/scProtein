{
 "cells": [
  {
   "cell_type": "markdown",
   "metadata": {},
   "source": [
    "## Set path"
   ]
  },
  {
   "cell_type": "code",
   "execution_count": 1,
   "metadata": {},
   "outputs": [],
   "source": [
    "import os\n",
    "dataset_dir = os.path.join(os.getcwd(), 'datasets/')\n",
    "outputs_dir = os.path.join(os.getcwd(), 'outputs/')\n",
    "if not os.path.exists(outputs_dir):\n",
    "    os.makedirs(outputs_dir)\n",
    "\n",
    "save_dir = os.path.join(outputs_dir, \"different samples/CITE-SLN111-Gayoso-Mouse1toMouse2/Babel/openproblems_bmmc_cite_phase2_rna/\")\n",
    "if not os.path.exists(save_dir):\n",
    "    os.makedirs(save_dir)"
   ]
  },
  {
   "cell_type": "markdown",
   "metadata": {},
   "source": [
    "## Load necessary libraries"
   ]
  },
  {
   "cell_type": "code",
   "execution_count": 2,
   "metadata": {},
   "outputs": [],
   "source": [
    "import anndata\n",
    "import numpy as np\n",
    "import pandas as pd\n",
    "import scanpy as sc"
   ]
  },
  {
   "cell_type": "markdown",
   "metadata": {},
   "source": [
    "## Load data"
   ]
  },
  {
   "cell_type": "code",
   "execution_count": 3,
   "metadata": {},
   "outputs": [
    {
     "data": {
      "text/plain": [
       "(AnnData object with n_obs × n_vars = 9264 × 13553\n",
       "     obs: 'n_protein_counts', 'n_proteins', 'seurat_hash_id', 'batch_indices', 'hash_id', 'n_genes', 'percent_mito', 'leiden_subclusters', 'cell_types'\n",
       "     var: 'gene_ids', 'feature_types', 'highly_variable', 'highly_variable_mean_variance', 'encode', 'hvg_encode'\n",
       "     uns: 'protein_name', 'version'\n",
       "     obsm: 'protein_expression',\n",
       " AnnData object with n_obs × n_vars = 7564 × 13553\n",
       "     obs: 'n_protein_counts', 'n_proteins', 'seurat_hash_id', 'batch_indices', 'hash_id', 'n_genes', 'percent_mito', 'leiden_subclusters', 'cell_types'\n",
       "     var: 'gene_ids', 'feature_types', 'highly_variable', 'highly_variable_mean_variance', 'encode', 'hvg_encode'\n",
       "     uns: 'protein_name', 'version'\n",
       "     obsm: 'protein_expression')"
      ]
     },
     "execution_count": 3,
     "metadata": {},
     "output_type": "execute_result"
    }
   ],
   "source": [
    "data_train = anndata.read(os.path.join(dataset_dir, \"different samples/CITE-SLN111-Gayoso/Mouse1.h5ad\"))\n",
    "data_test = anndata.read(os.path.join(dataset_dir, \"different samples/CITE-SLN111-Gayoso/Mouse2.h5ad\"))\n",
    "data_train, data_test"
   ]
  },
  {
   "cell_type": "markdown",
   "metadata": {},
   "source": [
    "## Preprocess gene expression data and convert to anndata format"
   ]
  },
  {
   "cell_type": "code",
   "execution_count": 4,
   "metadata": {},
   "outputs": [
    {
     "data": {
      "text/plain": [
       "(AnnData object with n_obs × n_vars = 9264 × 13553\n",
       "     obs: 'n_protein_counts', 'n_proteins', 'seurat_hash_id', 'batch_indices', 'hash_id', 'n_genes', 'percent_mito', 'leiden_subclusters', 'cell_types', 'size_factor'\n",
       "     var: 'gene_ids', 'feature_types', 'highly_variable', 'highly_variable_mean_variance', 'encode', 'hvg_encode', 'mean', 'std',\n",
       " AnnData object with n_obs × n_vars = 7564 × 13553\n",
       "     obs: 'n_protein_counts', 'n_proteins', 'seurat_hash_id', 'batch_indices', 'hash_id', 'n_genes', 'percent_mito', 'leiden_subclusters', 'cell_types', 'size_factor'\n",
       "     var: 'gene_ids', 'feature_types', 'highly_variable', 'highly_variable_mean_variance', 'encode', 'hvg_encode', 'mean', 'std')"
      ]
     },
     "execution_count": 4,
     "metadata": {},
     "output_type": "execute_result"
    }
   ],
   "source": [
    "sc.pp.normalize_total(data_train, key_added=\"size_factor\")\n",
    "sc.pp.normalize_total(data_test, key_added=\"size_factor\")\n",
    "\n",
    "sc.pp.scale(data_train)\n",
    "sc.pp.scale(data_test)\n",
    "\n",
    "clip_low_train,clip_high_train = np.percentile(data_train.X.flatten(), [0.5, 100.0 - 0.5])\n",
    "clip_low_test,clip_high_test = np.percentile(data_test.X.flatten(), [0.5, 100.0 - 0.5])\n",
    "\n",
    "data_train.X = np.clip(data_train.X, clip_low_train, clip_high_train)\n",
    "data_test.X = np.clip(data_test.X, clip_low_test, clip_high_test)\n",
    "\n",
    "train_gene_expression = data_train.X\n",
    "test_gene_expression = data_test.X\n",
    "train_rna = anndata.AnnData(X=train_gene_expression, var=data_train.var, obs=data_train.obs)\n",
    "test_rna = anndata.AnnData(X=test_gene_expression, var=data_test.var, obs=data_test.obs)\n",
    "\n",
    "train_rna, test_rna"
   ]
  },
  {
   "cell_type": "markdown",
   "metadata": {},
   "source": [
    "## Preprocess protein expression data and convert to anndata format"
   ]
  },
  {
   "cell_type": "code",
   "execution_count": 5,
   "metadata": {},
   "outputs": [
    {
     "data": {
      "text/plain": [
       "(AnnData object with n_obs × n_vars = 9264 × 110\n",
       "     obs: 'n_protein_counts', 'n_proteins', 'seurat_hash_id', 'batch_indices', 'hash_id', 'n_genes', 'percent_mito', 'leiden_subclusters', 'cell_types', 'size_factor'\n",
       "     var: 'protein_name',\n",
       " AnnData object with n_obs × n_vars = 7564 × 110\n",
       "     obs: 'n_protein_counts', 'n_proteins', 'seurat_hash_id', 'batch_indices', 'hash_id', 'n_genes', 'percent_mito', 'leiden_subclusters', 'cell_types', 'size_factor'\n",
       "     var: 'protein_name')"
      ]
     },
     "execution_count": 5,
     "metadata": {},
     "output_type": "execute_result"
    }
   ],
   "source": [
    "train_protein_expression = pd.DataFrame(data_train.obsm[\"protein_expression\"].todense(), index=data_train.obs.index, columns=data_train.uns[\"protein_name\"])\n",
    "test_protein_expression = pd.DataFrame(data_test.obsm[\"protein_expression\"].todense(), index=data_test.obs.index, columns=data_test.uns[\"protein_name\"])\n",
    "\n",
    "gmean_train = ((train_protein_expression.applymap(np.log1p).sum(axis=1)) / train_protein_expression.shape[1]).apply(np.exp)\n",
    "gmean_test = ((test_protein_expression.applymap(np.log1p).sum(axis=1)) / test_protein_expression.shape[1]).apply(np.exp)\n",
    "\n",
    "train_protein_clr = (train_protein_expression.div(gmean_train, axis=0)).applymap(np.log1p)\n",
    "test_protein_clr = (test_protein_expression.div(gmean_test, axis=0)).applymap(np.log1p)\n",
    "\n",
    "protein_name = pd.DataFrame(data_train.uns[\"protein_name\"], index=data_train.uns[\"protein_name\"], columns=[\"protein_name\"])\n",
    "train_protein = anndata.AnnData(X=train_protein_clr, var=protein_name, obs=data_train.obs)\n",
    "test_protein = anndata.AnnData(X=test_protein_clr, var=protein_name, obs=data_test.obs)\n",
    "\n",
    "train_protein, test_protein"
   ]
  },
  {
   "cell_type": "markdown",
   "metadata": {},
   "source": [
    "## Save preprocessed data"
   ]
  },
  {
   "cell_type": "code",
   "execution_count": 6,
   "metadata": {},
   "outputs": [],
   "source": [
    "\n",
    "train_rna.write(os.path.join(save_dir, \"openproblems_bmmc_cite_phase2_rna.censor_dataset.output_train_mod1.h5ad\"), compression=\"gzip\")\n",
    "test_rna.write(os.path.join(save_dir, \"openproblems_bmmc_cite_phase2_rna.censor_dataset.output_test_mod1.h5ad\"), compression=\"gzip\")\n",
    "train_protein.write(os.path.join(save_dir, \"openproblems_bmmc_cite_phase2_rna.censor_dataset.output_train_mod2.h5ad\"), compression=\"gzip\")\n",
    "test_protein.write(os.path.join(save_dir, \"openproblems_bmmc_cite_phase2_rna.censor_dataset.output_test_mod2.h5ad\"), compression=\"gzip\")"
   ]
  }
 ],
 "metadata": {
  "kernelspec": {
   "display_name": "scvi_tools",
   "language": "python",
   "name": "scvi_tools"
  },
  "language_info": {
   "codemirror_mode": {
    "name": "ipython",
    "version": 3
   },
   "file_extension": ".py",
   "mimetype": "text/x-python",
   "name": "python",
   "nbconvert_exporter": "python",
   "pygments_lexer": "ipython3",
   "version": "3.8.16"
  }
 },
 "nbformat": 4,
 "nbformat_minor": 4
}
