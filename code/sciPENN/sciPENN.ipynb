{
 "cells": [
  {
   "cell_type": "markdown",
   "metadata": {},
   "source": [
    "## Set path"
   ]
  },
  {
   "cell_type": "code",
   "execution_count": 1,
   "metadata": {},
   "outputs": [],
   "source": [
    "import os\n",
    "dataset_dir = os.path.join(os.getcwd(), 'datasets/')\n",
    "outputs_dir = os.path.join(os.getcwd(), 'outputs/')\n",
    "if not os.path.exists(outputs_dir):\n",
    "    os.makedirs(outputs_dir)\n",
    "\n",
    "save_dir = os.path.join(outputs_dir, \"different samples/CITE-SLN111-Gayoso-Mouse1toMouse2/sciPENN/\")\n",
    "if not os.path.exists(save_dir):\n",
    "    os.makedirs(save_dir)"
   ]
  },
  {
   "cell_type": "markdown",
   "metadata": {},
   "source": [
    "## Load necessary libraries"
   ]
  },
  {
   "cell_type": "code",
   "execution_count": 2,
   "metadata": {},
   "outputs": [
    {
     "name": "stderr",
     "output_type": "stream",
     "text": [
      "/home/hongyj/.conda/envs/scipennenv/lib/python3.7/site-packages/tqdm/auto.py:21: TqdmWarning: IProgress not found. Please update jupyter and ipywidgets. See https://ipywidgets.readthedocs.io/en/stable/user_install.html\n",
      "  from .autonotebook import tqdm as notebook_tqdm\n"
     ]
    }
   ],
   "source": [
    "import anndata\n",
    "from sciPENN.sciPENN_API import sciPENN_API\n",
    "import pandas as pd"
   ]
  },
  {
   "cell_type": "markdown",
   "metadata": {},
   "source": [
    "## Load data"
   ]
  },
  {
   "cell_type": "code",
   "execution_count": 3,
   "metadata": {},
   "outputs": [
    {
     "data": {
      "text/plain": [
       "(AnnData object with n_obs × n_vars = 9264 × 13553\n",
       "     obs: 'n_protein_counts', 'n_proteins', 'seurat_hash_id', 'batch_indices', 'hash_id', 'n_genes', 'percent_mito', 'leiden_subclusters', 'cell_types'\n",
       "     var: 'gene_ids', 'feature_types', 'highly_variable', 'highly_variable_mean_variance', 'encode', 'hvg_encode'\n",
       "     uns: 'protein_name', 'version'\n",
       "     obsm: 'protein_expression',\n",
       " AnnData object with n_obs × n_vars = 7564 × 13553\n",
       "     obs: 'n_protein_counts', 'n_proteins', 'seurat_hash_id', 'batch_indices', 'hash_id', 'n_genes', 'percent_mito', 'leiden_subclusters', 'cell_types'\n",
       "     var: 'gene_ids', 'feature_types', 'highly_variable', 'highly_variable_mean_variance', 'encode', 'hvg_encode'\n",
       "     uns: 'protein_name', 'version'\n",
       "     obsm: 'protein_expression')"
      ]
     },
     "execution_count": 3,
     "metadata": {},
     "output_type": "execute_result"
    }
   ],
   "source": [
    "train_data = anndata.read(os.path.join(dataset_dir, \"different samples/CITE-SLN111-Gayoso/Mouse1.h5ad\"))\n",
    "test_data = anndata.read(os.path.join(dataset_dir, \"different samples/CITE-SLN111-Gayoso/Mouse2.h5ad\"))\n",
    "train_data, test_data"
   ]
  },
  {
   "cell_type": "markdown",
   "metadata": {},
   "source": [
    "## Convert gene expression data and protein expression data in training dataset to anndata separately"
   ]
  },
  {
   "cell_type": "code",
   "execution_count": 4,
   "metadata": {},
   "outputs": [
    {
     "data": {
      "text/plain": [
       "(AnnData object with n_obs × n_vars = 9264 × 13553\n",
       "     obs: 'n_protein_counts', 'n_proteins', 'seurat_hash_id', 'batch_indices', 'hash_id', 'n_genes', 'percent_mito', 'leiden_subclusters', 'cell_types'\n",
       "     var: 'gene_ids', 'feature_types', 'highly_variable', 'highly_variable_mean_variance', 'encode', 'hvg_encode',\n",
       " AnnData object with n_obs × n_vars = 9264 × 110\n",
       "     obs: 'n_protein_counts', 'n_proteins', 'seurat_hash_id', 'batch_indices', 'hash_id', 'n_genes', 'percent_mito', 'leiden_subclusters', 'cell_types'\n",
       "     var: 'protein_name')"
      ]
     },
     "execution_count": 4,
     "metadata": {},
     "output_type": "execute_result"
    }
   ],
   "source": [
    "train_rna = anndata.AnnData(X=train_data.X, var=train_data.var, obs=train_data.obs)\n",
    "\n",
    "train_protein = anndata.AnnData(X=train_data.obsm[\"protein_expression\"])\n",
    "train_protein_var = pd.DataFrame(train_data.uns[\"protein_name\"], columns=[\"protein_name\"])\n",
    "train_protein.var = train_protein_var\n",
    "train_protein.obs = train_data.obs\n",
    "\n",
    "train_rna, train_protein"
   ]
  },
  {
   "cell_type": "markdown",
   "metadata": {},
   "source": [
    "## Convert gene expression data in test dataset to anndata"
   ]
  },
  {
   "cell_type": "code",
   "execution_count": 5,
   "metadata": {},
   "outputs": [
    {
     "data": {
      "text/plain": [
       "AnnData object with n_obs × n_vars = 7564 × 13553\n",
       "    obs: 'n_protein_counts', 'n_proteins', 'seurat_hash_id', 'batch_indices', 'hash_id', 'n_genes', 'percent_mito', 'leiden_subclusters', 'cell_types'\n",
       "    var: 'gene_ids', 'feature_types', 'highly_variable', 'highly_variable_mean_variance', 'encode', 'hvg_encode'"
      ]
     },
     "execution_count": 5,
     "metadata": {},
     "output_type": "execute_result"
    }
   ],
   "source": [
    "test_rna = anndata.AnnData(X=test_data.X, var=test_data.var, obs=test_data.obs)\n",
    "test_rna"
   ]
  },
  {
   "cell_type": "markdown",
   "metadata": {},
   "source": [
    "## Create sciPENN object\n",
    "### Pass the batch information contained within the datasets stored in obs (if available) to the parameters *train_batchkeys* and *test_batchkey*"
   ]
  },
  {
   "cell_type": "code",
   "execution_count": 6,
   "metadata": {},
   "outputs": [
    {
     "name": "stdout",
     "output_type": "stream",
     "text": [
      "Searching for GPU\n",
      "GPU detected, using GPU\n",
      "\n",
      "QC Filtering Training Cells\n"
     ]
    },
    {
     "name": "stderr",
     "output_type": "stream",
     "text": [
      "/home/hongyj/.conda/envs/scipennenv/lib/python3.7/site-packages/anndata/_core/anndata.py:121: ImplicitModificationWarning: Transforming to str index.\n",
      "  warnings.warn(\"Transforming to str index.\", ImplicitModificationWarning)\n"
     ]
    },
    {
     "name": "stdout",
     "output_type": "stream",
     "text": [
      "QC Filtering Testing Cells\n",
      "\n",
      "QC Filtering Training Genes\n",
      "QC Filtering Testing Genes\n",
      "\n",
      "Normalizing Training Cells\n",
      "Normalizing Testing Cells\n",
      "\n",
      "Log-Normalizing Training Data\n",
      "Log-Normalizing Testing Data\n",
      "\n",
      "Finding HVGs\n"
     ]
    },
    {
     "name": "stderr",
     "output_type": "stream",
     "text": [
      "/home/hongyj/.conda/envs/scipennenv/lib/python3.7/site-packages/anndata/_core/anndata.py:1785: FutureWarning: X.dtype being converted to np.float32 from float64. In the next version of anndata (0.9) conversion will not be automatic. Pass dtype explicitly to avoid this warning. Pass `AnnData(X, dtype=X.dtype, ...)` to get the future behavour.\n",
      "  [AnnData(sparse.csr_matrix(a.shape), obs=a.obs) for a in all_adatas],\n"
     ]
    },
    {
     "name": "stdout",
     "output_type": "stream",
     "text": [
      "\n",
      "Normalizing Gene Training Data by Batch\n"
     ]
    },
    {
     "name": "stderr",
     "output_type": "stream",
     "text": [
      "100%|██████████| 1/1 [00:00<00:00,  8.41it/s]\n"
     ]
    },
    {
     "name": "stdout",
     "output_type": "stream",
     "text": [
      "\n",
      "Normalizing Protein Training Data by Batch\n"
     ]
    },
    {
     "name": "stderr",
     "output_type": "stream",
     "text": [
      "100%|██████████| 1/1 [00:00<00:00, 37.80it/s]\n"
     ]
    },
    {
     "name": "stdout",
     "output_type": "stream",
     "text": [
      "\n",
      "Normalizing Gene Testing Data by Batch\n"
     ]
    },
    {
     "name": "stderr",
     "output_type": "stream",
     "text": [
      "100%|██████████| 1/1 [00:00<00:00, 10.60it/s]\n"
     ]
    }
   ],
   "source": [
    "model = sciPENN_API(gene_trainsets=[train_rna], protein_trainsets=[train_protein], gene_test=test_rna) "
   ]
  },
  {
   "cell_type": "markdown",
   "metadata": {},
   "source": [
    "## Train model\n",
    "### The trained model weights will be saved in the *weights_dir*"
   ]
  },
  {
   "cell_type": "code",
   "execution_count": 7,
   "metadata": {},
   "outputs": [
    {
     "name": "stdout",
     "output_type": "stream",
     "text": [
      "Epoch 0 prediction loss = 1.403\n",
      "Epoch 1 prediction loss = 0.931\n",
      "Epoch 2 prediction loss = 0.911\n",
      "Epoch 3 prediction loss = 0.905\n",
      "Epoch 4 prediction loss = 0.890\n",
      "Epoch 5 prediction loss = 0.889\n",
      "Epoch 6 prediction loss = 0.884\n",
      "Epoch 7 prediction loss = 0.882\n",
      "Epoch 8 prediction loss = 0.878\n",
      "Epoch 9 prediction loss = 0.878\n",
      "Epoch 10 prediction loss = 0.880\n",
      "Epoch 11 prediction loss = 0.879\n",
      "Epoch 12 prediction loss = 0.881\n",
      "Epoch 13 prediction loss = 0.875\n",
      "Decaying loss to 0.0001\n",
      "Epoch 14 prediction loss = 0.860\n",
      "Epoch 15 prediction loss = 0.862\n",
      "Epoch 16 prediction loss = 0.863\n",
      "Epoch 17 prediction loss = 0.860\n",
      "Epoch 18 prediction loss = 0.861\n",
      "Epoch 19 prediction loss = 0.860\n",
      "Decaying loss to 1e-05\n",
      "Epoch 20 prediction loss = 0.860\n",
      "Epoch 21 prediction loss = 0.859\n",
      "Epoch 22 prediction loss = 0.859\n",
      "Epoch 23 prediction loss = 0.861\n",
      "Epoch 24 prediction loss = 0.860\n",
      "Epoch 25 prediction loss = 0.861\n",
      "Decaying loss to 1.0000000000000002e-06\n",
      "Epoch 26 prediction loss = 0.859\n"
     ]
    }
   ],
   "source": [
    "\n",
    "model.train(weights_dir=os.path.join(save_dir, \"sciPENN_weights\"))"
   ]
  },
  {
   "cell_type": "markdown",
   "metadata": {},
   "source": [
    "## Impute protein expression data in test"
   ]
  },
  {
   "cell_type": "code",
   "execution_count": 8,
   "metadata": {},
   "outputs": [
    {
     "name": "stderr",
     "output_type": "stream",
     "text": [
      "/home/hongyj/.conda/envs/scipennenv/lib/python3.7/site-packages/sciPENN/Network/Model.py:211: FutureWarning: X.dtype being converted to np.float32 from float64. In the next version of anndata (0.9) conversion will not be automatic. Pass dtype explicitly to avoid this warning. Pass `AnnData(X, dtype=X.dtype, ...)` to get the future behavour.\n",
      "  imputed_test = AnnData(zeros(shape = (len(cells), len(proteins.var))))\n"
     ]
    }
   ],
   "source": [
    "predicted_test = model.predict()\n",
    "predicted_protein = predicted_test.X"
   ]
  },
  {
   "cell_type": "markdown",
   "metadata": {},
   "source": [
    "## Save prediction"
   ]
  },
  {
   "cell_type": "code",
   "execution_count": 9,
   "metadata": {},
   "outputs": [
    {
     "data": {
      "text/html": [
       "<div>\n",
       "<style scoped>\n",
       "    .dataframe tbody tr th:only-of-type {\n",
       "        vertical-align: middle;\n",
       "    }\n",
       "\n",
       "    .dataframe tbody tr th {\n",
       "        vertical-align: top;\n",
       "    }\n",
       "\n",
       "    .dataframe thead th {\n",
       "        text-align: right;\n",
       "    }\n",
       "</style>\n",
       "<table border=\"1\" class=\"dataframe\">\n",
       "  <thead>\n",
       "    <tr style=\"text-align: right;\">\n",
       "      <th>protein_name</th>\n",
       "      <th>ADT_CD102_A0104</th>\n",
       "      <th>ADT_CD103_A0201</th>\n",
       "      <th>ADT_CD106_A0226</th>\n",
       "      <th>ADT_CD115(CSF-1R)_A0105</th>\n",
       "      <th>ADT_CD117(c-Kit)_A0012</th>\n",
       "      <th>ADT_CD11a_A0595</th>\n",
       "      <th>ADT_CD11c_A0106</th>\n",
       "      <th>ADT_CD122(IL-2Rb)_A0227</th>\n",
       "      <th>ADT_CD127(IL-7Ra)_A0198</th>\n",
       "      <th>ADT_CD134(OX-40)_A0195</th>\n",
       "      <th>...</th>\n",
       "      <th>ADT_TCRVr1.1-Cr4_A0209</th>\n",
       "      <th>ADT_TCRVr2_A0211</th>\n",
       "      <th>ADT_TCRVr3_A0210</th>\n",
       "      <th>ADT_TCRbchain_A0120</th>\n",
       "      <th>ADT_TCRr-d_A0121</th>\n",
       "      <th>ADT_TER-119-ErythroidCells_A0122</th>\n",
       "      <th>ADT_Tim-4_A0567</th>\n",
       "      <th>ADT_XCR1_A0568</th>\n",
       "      <th>ADT_anti-P2RY12_A0415</th>\n",
       "      <th>ADT_integrinb7_A0214</th>\n",
       "    </tr>\n",
       "    <tr>\n",
       "      <th>index</th>\n",
       "      <th></th>\n",
       "      <th></th>\n",
       "      <th></th>\n",
       "      <th></th>\n",
       "      <th></th>\n",
       "      <th></th>\n",
       "      <th></th>\n",
       "      <th></th>\n",
       "      <th></th>\n",
       "      <th></th>\n",
       "      <th></th>\n",
       "      <th></th>\n",
       "      <th></th>\n",
       "      <th></th>\n",
       "      <th></th>\n",
       "      <th></th>\n",
       "      <th></th>\n",
       "      <th></th>\n",
       "      <th></th>\n",
       "      <th></th>\n",
       "      <th></th>\n",
       "    </tr>\n",
       "  </thead>\n",
       "  <tbody>\n",
       "    <tr>\n",
       "      <th>AAACCCAAGAATCTAG-2</th>\n",
       "      <td>-0.075074</td>\n",
       "      <td>-0.480129</td>\n",
       "      <td>0.314208</td>\n",
       "      <td>-0.115879</td>\n",
       "      <td>-0.250983</td>\n",
       "      <td>-0.529469</td>\n",
       "      <td>-0.178850</td>\n",
       "      <td>-0.290278</td>\n",
       "      <td>-0.299035</td>\n",
       "      <td>-0.212885</td>\n",
       "      <td>...</td>\n",
       "      <td>0.146033</td>\n",
       "      <td>0.048426</td>\n",
       "      <td>-0.005435</td>\n",
       "      <td>-0.769430</td>\n",
       "      <td>0.216387</td>\n",
       "      <td>-0.038839</td>\n",
       "      <td>0.434090</td>\n",
       "      <td>0.035958</td>\n",
       "      <td>-0.275547</td>\n",
       "      <td>0.352861</td>\n",
       "    </tr>\n",
       "    <tr>\n",
       "      <th>AAACCCACACCGGAAA-2</th>\n",
       "      <td>2.070195</td>\n",
       "      <td>0.266736</td>\n",
       "      <td>0.577778</td>\n",
       "      <td>0.676200</td>\n",
       "      <td>0.448604</td>\n",
       "      <td>-1.921980</td>\n",
       "      <td>0.222479</td>\n",
       "      <td>0.173083</td>\n",
       "      <td>0.093942</td>\n",
       "      <td>0.989365</td>\n",
       "      <td>...</td>\n",
       "      <td>0.283938</td>\n",
       "      <td>0.974859</td>\n",
       "      <td>1.071386</td>\n",
       "      <td>-0.541235</td>\n",
       "      <td>1.082818</td>\n",
       "      <td>0.066703</td>\n",
       "      <td>0.969275</td>\n",
       "      <td>0.627288</td>\n",
       "      <td>0.849877</td>\n",
       "      <td>-0.683034</td>\n",
       "    </tr>\n",
       "    <tr>\n",
       "      <th>AAACCCACACTACTTT-2</th>\n",
       "      <td>0.115370</td>\n",
       "      <td>-0.626729</td>\n",
       "      <td>-0.219099</td>\n",
       "      <td>-0.348924</td>\n",
       "      <td>-0.692816</td>\n",
       "      <td>-0.538368</td>\n",
       "      <td>-0.355847</td>\n",
       "      <td>-0.490868</td>\n",
       "      <td>-0.591396</td>\n",
       "      <td>-0.681801</td>\n",
       "      <td>...</td>\n",
       "      <td>-0.193898</td>\n",
       "      <td>-0.422313</td>\n",
       "      <td>-0.511603</td>\n",
       "      <td>-0.866305</td>\n",
       "      <td>-0.478096</td>\n",
       "      <td>0.009231</td>\n",
       "      <td>-0.336346</td>\n",
       "      <td>-0.341177</td>\n",
       "      <td>-0.385641</td>\n",
       "      <td>-0.186743</td>\n",
       "    </tr>\n",
       "    <tr>\n",
       "      <th>AAACCCAGTAGGCAAC-2</th>\n",
       "      <td>0.130569</td>\n",
       "      <td>-0.453139</td>\n",
       "      <td>0.033271</td>\n",
       "      <td>-0.069973</td>\n",
       "      <td>-0.526858</td>\n",
       "      <td>-0.628178</td>\n",
       "      <td>-0.214568</td>\n",
       "      <td>-0.006709</td>\n",
       "      <td>-0.632176</td>\n",
       "      <td>-0.300095</td>\n",
       "      <td>...</td>\n",
       "      <td>-0.085706</td>\n",
       "      <td>-0.063461</td>\n",
       "      <td>-0.028688</td>\n",
       "      <td>-0.822515</td>\n",
       "      <td>-0.128905</td>\n",
       "      <td>-0.254644</td>\n",
       "      <td>-0.107969</td>\n",
       "      <td>-0.092040</td>\n",
       "      <td>0.012610</td>\n",
       "      <td>0.138125</td>\n",
       "    </tr>\n",
       "    <tr>\n",
       "      <th>AAACCCAGTCTCAGGC-2</th>\n",
       "      <td>0.007473</td>\n",
       "      <td>-0.193142</td>\n",
       "      <td>0.059421</td>\n",
       "      <td>0.181116</td>\n",
       "      <td>-0.135164</td>\n",
       "      <td>-0.593218</td>\n",
       "      <td>-0.057032</td>\n",
       "      <td>0.146777</td>\n",
       "      <td>-0.613469</td>\n",
       "      <td>0.141324</td>\n",
       "      <td>...</td>\n",
       "      <td>0.177557</td>\n",
       "      <td>0.229020</td>\n",
       "      <td>0.481565</td>\n",
       "      <td>-0.742698</td>\n",
       "      <td>0.135457</td>\n",
       "      <td>-0.177336</td>\n",
       "      <td>-0.013411</td>\n",
       "      <td>0.217457</td>\n",
       "      <td>0.455122</td>\n",
       "      <td>0.127714</td>\n",
       "    </tr>\n",
       "    <tr>\n",
       "      <th>...</th>\n",
       "      <td>...</td>\n",
       "      <td>...</td>\n",
       "      <td>...</td>\n",
       "      <td>...</td>\n",
       "      <td>...</td>\n",
       "      <td>...</td>\n",
       "      <td>...</td>\n",
       "      <td>...</td>\n",
       "      <td>...</td>\n",
       "      <td>...</td>\n",
       "      <td>...</td>\n",
       "      <td>...</td>\n",
       "      <td>...</td>\n",
       "      <td>...</td>\n",
       "      <td>...</td>\n",
       "      <td>...</td>\n",
       "      <td>...</td>\n",
       "      <td>...</td>\n",
       "      <td>...</td>\n",
       "      <td>...</td>\n",
       "      <td>...</td>\n",
       "    </tr>\n",
       "    <tr>\n",
       "      <th>TTTGTTGGTAAGATCA-2</th>\n",
       "      <td>0.150713</td>\n",
       "      <td>0.044235</td>\n",
       "      <td>-0.300959</td>\n",
       "      <td>-0.170286</td>\n",
       "      <td>-0.499647</td>\n",
       "      <td>-0.676416</td>\n",
       "      <td>-0.081885</td>\n",
       "      <td>-0.165093</td>\n",
       "      <td>-0.581892</td>\n",
       "      <td>-0.181092</td>\n",
       "      <td>...</td>\n",
       "      <td>-0.352278</td>\n",
       "      <td>-0.047560</td>\n",
       "      <td>-0.140448</td>\n",
       "      <td>-0.741950</td>\n",
       "      <td>-0.260319</td>\n",
       "      <td>0.320621</td>\n",
       "      <td>-0.243821</td>\n",
       "      <td>0.079172</td>\n",
       "      <td>0.137088</td>\n",
       "      <td>0.377301</td>\n",
       "    </tr>\n",
       "    <tr>\n",
       "      <th>TTTGTTGGTCAGACTT-2</th>\n",
       "      <td>-0.658673</td>\n",
       "      <td>-0.294298</td>\n",
       "      <td>-0.189475</td>\n",
       "      <td>-0.143172</td>\n",
       "      <td>0.529070</td>\n",
       "      <td>0.544871</td>\n",
       "      <td>-0.196329</td>\n",
       "      <td>-0.126351</td>\n",
       "      <td>0.927257</td>\n",
       "      <td>0.199352</td>\n",
       "      <td>...</td>\n",
       "      <td>-0.028141</td>\n",
       "      <td>0.145750</td>\n",
       "      <td>0.132429</td>\n",
       "      <td>1.455479</td>\n",
       "      <td>0.131354</td>\n",
       "      <td>-0.264727</td>\n",
       "      <td>-0.115566</td>\n",
       "      <td>0.005645</td>\n",
       "      <td>0.092516</td>\n",
       "      <td>-0.355014</td>\n",
       "    </tr>\n",
       "    <tr>\n",
       "      <th>TTTGTTGGTGTTTACG-2</th>\n",
       "      <td>1.526162</td>\n",
       "      <td>-0.064761</td>\n",
       "      <td>0.048496</td>\n",
       "      <td>0.044260</td>\n",
       "      <td>-0.099444</td>\n",
       "      <td>-1.181569</td>\n",
       "      <td>0.008174</td>\n",
       "      <td>-0.128753</td>\n",
       "      <td>-0.251232</td>\n",
       "      <td>0.148012</td>\n",
       "      <td>...</td>\n",
       "      <td>-0.220676</td>\n",
       "      <td>0.112171</td>\n",
       "      <td>0.257751</td>\n",
       "      <td>-0.686211</td>\n",
       "      <td>0.091789</td>\n",
       "      <td>0.014448</td>\n",
       "      <td>0.166384</td>\n",
       "      <td>0.145029</td>\n",
       "      <td>0.275247</td>\n",
       "      <td>-0.891063</td>\n",
       "    </tr>\n",
       "    <tr>\n",
       "      <th>TTTGTTGTCAGAATAG-2</th>\n",
       "      <td>0.805792</td>\n",
       "      <td>0.036285</td>\n",
       "      <td>0.201381</td>\n",
       "      <td>0.152380</td>\n",
       "      <td>-0.268955</td>\n",
       "      <td>-0.586130</td>\n",
       "      <td>-0.229748</td>\n",
       "      <td>0.134019</td>\n",
       "      <td>-0.539321</td>\n",
       "      <td>0.178207</td>\n",
       "      <td>...</td>\n",
       "      <td>0.011201</td>\n",
       "      <td>0.300608</td>\n",
       "      <td>0.417309</td>\n",
       "      <td>-0.690056</td>\n",
       "      <td>0.459855</td>\n",
       "      <td>-0.132069</td>\n",
       "      <td>0.189741</td>\n",
       "      <td>0.187593</td>\n",
       "      <td>0.592481</td>\n",
       "      <td>0.393760</td>\n",
       "    </tr>\n",
       "    <tr>\n",
       "      <th>TTTGTTGTCGAGTGGA-2</th>\n",
       "      <td>0.319012</td>\n",
       "      <td>-0.577014</td>\n",
       "      <td>-0.504220</td>\n",
       "      <td>-0.502603</td>\n",
       "      <td>-0.854733</td>\n",
       "      <td>-0.568996</td>\n",
       "      <td>-0.455938</td>\n",
       "      <td>-0.552609</td>\n",
       "      <td>-0.758961</td>\n",
       "      <td>-0.966809</td>\n",
       "      <td>...</td>\n",
       "      <td>-0.299021</td>\n",
       "      <td>-0.589616</td>\n",
       "      <td>-0.698739</td>\n",
       "      <td>-0.933844</td>\n",
       "      <td>-0.741320</td>\n",
       "      <td>-0.401346</td>\n",
       "      <td>-0.545801</td>\n",
       "      <td>-0.564911</td>\n",
       "      <td>-0.475772</td>\n",
       "      <td>-0.419823</td>\n",
       "    </tr>\n",
       "  </tbody>\n",
       "</table>\n",
       "<p>7564 rows × 110 columns</p>\n",
       "</div>"
      ],
      "text/plain": [
       "protein_name        ADT_CD102_A0104  ADT_CD103_A0201  ADT_CD106_A0226  \\\n",
       "index                                                                   \n",
       "AAACCCAAGAATCTAG-2        -0.075074        -0.480129         0.314208   \n",
       "AAACCCACACCGGAAA-2         2.070195         0.266736         0.577778   \n",
       "AAACCCACACTACTTT-2         0.115370        -0.626729        -0.219099   \n",
       "AAACCCAGTAGGCAAC-2         0.130569        -0.453139         0.033271   \n",
       "AAACCCAGTCTCAGGC-2         0.007473        -0.193142         0.059421   \n",
       "...                             ...              ...              ...   \n",
       "TTTGTTGGTAAGATCA-2         0.150713         0.044235        -0.300959   \n",
       "TTTGTTGGTCAGACTT-2        -0.658673        -0.294298        -0.189475   \n",
       "TTTGTTGGTGTTTACG-2         1.526162        -0.064761         0.048496   \n",
       "TTTGTTGTCAGAATAG-2         0.805792         0.036285         0.201381   \n",
       "TTTGTTGTCGAGTGGA-2         0.319012        -0.577014        -0.504220   \n",
       "\n",
       "protein_name        ADT_CD115(CSF-1R)_A0105  ADT_CD117(c-Kit)_A0012  \\\n",
       "index                                                                 \n",
       "AAACCCAAGAATCTAG-2                -0.115879               -0.250983   \n",
       "AAACCCACACCGGAAA-2                 0.676200                0.448604   \n",
       "AAACCCACACTACTTT-2                -0.348924               -0.692816   \n",
       "AAACCCAGTAGGCAAC-2                -0.069973               -0.526858   \n",
       "AAACCCAGTCTCAGGC-2                 0.181116               -0.135164   \n",
       "...                                     ...                     ...   \n",
       "TTTGTTGGTAAGATCA-2                -0.170286               -0.499647   \n",
       "TTTGTTGGTCAGACTT-2                -0.143172                0.529070   \n",
       "TTTGTTGGTGTTTACG-2                 0.044260               -0.099444   \n",
       "TTTGTTGTCAGAATAG-2                 0.152380               -0.268955   \n",
       "TTTGTTGTCGAGTGGA-2                -0.502603               -0.854733   \n",
       "\n",
       "protein_name        ADT_CD11a_A0595  ADT_CD11c_A0106  ADT_CD122(IL-2Rb)_A0227  \\\n",
       "index                                                                           \n",
       "AAACCCAAGAATCTAG-2        -0.529469        -0.178850                -0.290278   \n",
       "AAACCCACACCGGAAA-2        -1.921980         0.222479                 0.173083   \n",
       "AAACCCACACTACTTT-2        -0.538368        -0.355847                -0.490868   \n",
       "AAACCCAGTAGGCAAC-2        -0.628178        -0.214568                -0.006709   \n",
       "AAACCCAGTCTCAGGC-2        -0.593218        -0.057032                 0.146777   \n",
       "...                             ...              ...                      ...   \n",
       "TTTGTTGGTAAGATCA-2        -0.676416        -0.081885                -0.165093   \n",
       "TTTGTTGGTCAGACTT-2         0.544871        -0.196329                -0.126351   \n",
       "TTTGTTGGTGTTTACG-2        -1.181569         0.008174                -0.128753   \n",
       "TTTGTTGTCAGAATAG-2        -0.586130        -0.229748                 0.134019   \n",
       "TTTGTTGTCGAGTGGA-2        -0.568996        -0.455938                -0.552609   \n",
       "\n",
       "protein_name        ADT_CD127(IL-7Ra)_A0198  ADT_CD134(OX-40)_A0195  ...  \\\n",
       "index                                                                ...   \n",
       "AAACCCAAGAATCTAG-2                -0.299035               -0.212885  ...   \n",
       "AAACCCACACCGGAAA-2                 0.093942                0.989365  ...   \n",
       "AAACCCACACTACTTT-2                -0.591396               -0.681801  ...   \n",
       "AAACCCAGTAGGCAAC-2                -0.632176               -0.300095  ...   \n",
       "AAACCCAGTCTCAGGC-2                -0.613469                0.141324  ...   \n",
       "...                                     ...                     ...  ...   \n",
       "TTTGTTGGTAAGATCA-2                -0.581892               -0.181092  ...   \n",
       "TTTGTTGGTCAGACTT-2                 0.927257                0.199352  ...   \n",
       "TTTGTTGGTGTTTACG-2                -0.251232                0.148012  ...   \n",
       "TTTGTTGTCAGAATAG-2                -0.539321                0.178207  ...   \n",
       "TTTGTTGTCGAGTGGA-2                -0.758961               -0.966809  ...   \n",
       "\n",
       "protein_name        ADT_TCRVr1.1-Cr4_A0209  ADT_TCRVr2_A0211  \\\n",
       "index                                                          \n",
       "AAACCCAAGAATCTAG-2                0.146033          0.048426   \n",
       "AAACCCACACCGGAAA-2                0.283938          0.974859   \n",
       "AAACCCACACTACTTT-2               -0.193898         -0.422313   \n",
       "AAACCCAGTAGGCAAC-2               -0.085706         -0.063461   \n",
       "AAACCCAGTCTCAGGC-2                0.177557          0.229020   \n",
       "...                                    ...               ...   \n",
       "TTTGTTGGTAAGATCA-2               -0.352278         -0.047560   \n",
       "TTTGTTGGTCAGACTT-2               -0.028141          0.145750   \n",
       "TTTGTTGGTGTTTACG-2               -0.220676          0.112171   \n",
       "TTTGTTGTCAGAATAG-2                0.011201          0.300608   \n",
       "TTTGTTGTCGAGTGGA-2               -0.299021         -0.589616   \n",
       "\n",
       "protein_name        ADT_TCRVr3_A0210  ADT_TCRbchain_A0120  ADT_TCRr-d_A0121  \\\n",
       "index                                                                         \n",
       "AAACCCAAGAATCTAG-2         -0.005435            -0.769430          0.216387   \n",
       "AAACCCACACCGGAAA-2          1.071386            -0.541235          1.082818   \n",
       "AAACCCACACTACTTT-2         -0.511603            -0.866305         -0.478096   \n",
       "AAACCCAGTAGGCAAC-2         -0.028688            -0.822515         -0.128905   \n",
       "AAACCCAGTCTCAGGC-2          0.481565            -0.742698          0.135457   \n",
       "...                              ...                  ...               ...   \n",
       "TTTGTTGGTAAGATCA-2         -0.140448            -0.741950         -0.260319   \n",
       "TTTGTTGGTCAGACTT-2          0.132429             1.455479          0.131354   \n",
       "TTTGTTGGTGTTTACG-2          0.257751            -0.686211          0.091789   \n",
       "TTTGTTGTCAGAATAG-2          0.417309            -0.690056          0.459855   \n",
       "TTTGTTGTCGAGTGGA-2         -0.698739            -0.933844         -0.741320   \n",
       "\n",
       "protein_name        ADT_TER-119-ErythroidCells_A0122  ADT_Tim-4_A0567  \\\n",
       "index                                                                   \n",
       "AAACCCAAGAATCTAG-2                         -0.038839         0.434090   \n",
       "AAACCCACACCGGAAA-2                          0.066703         0.969275   \n",
       "AAACCCACACTACTTT-2                          0.009231        -0.336346   \n",
       "AAACCCAGTAGGCAAC-2                         -0.254644        -0.107969   \n",
       "AAACCCAGTCTCAGGC-2                         -0.177336        -0.013411   \n",
       "...                                              ...              ...   \n",
       "TTTGTTGGTAAGATCA-2                          0.320621        -0.243821   \n",
       "TTTGTTGGTCAGACTT-2                         -0.264727        -0.115566   \n",
       "TTTGTTGGTGTTTACG-2                          0.014448         0.166384   \n",
       "TTTGTTGTCAGAATAG-2                         -0.132069         0.189741   \n",
       "TTTGTTGTCGAGTGGA-2                         -0.401346        -0.545801   \n",
       "\n",
       "protein_name        ADT_XCR1_A0568  ADT_anti-P2RY12_A0415  \\\n",
       "index                                                       \n",
       "AAACCCAAGAATCTAG-2        0.035958              -0.275547   \n",
       "AAACCCACACCGGAAA-2        0.627288               0.849877   \n",
       "AAACCCACACTACTTT-2       -0.341177              -0.385641   \n",
       "AAACCCAGTAGGCAAC-2       -0.092040               0.012610   \n",
       "AAACCCAGTCTCAGGC-2        0.217457               0.455122   \n",
       "...                            ...                    ...   \n",
       "TTTGTTGGTAAGATCA-2        0.079172               0.137088   \n",
       "TTTGTTGGTCAGACTT-2        0.005645               0.092516   \n",
       "TTTGTTGGTGTTTACG-2        0.145029               0.275247   \n",
       "TTTGTTGTCAGAATAG-2        0.187593               0.592481   \n",
       "TTTGTTGTCGAGTGGA-2       -0.564911              -0.475772   \n",
       "\n",
       "protein_name        ADT_integrinb7_A0214  \n",
       "index                                     \n",
       "AAACCCAAGAATCTAG-2              0.352861  \n",
       "AAACCCACACCGGAAA-2             -0.683034  \n",
       "AAACCCACACTACTTT-2             -0.186743  \n",
       "AAACCCAGTAGGCAAC-2              0.138125  \n",
       "AAACCCAGTCTCAGGC-2              0.127714  \n",
       "...                                  ...  \n",
       "TTTGTTGGTAAGATCA-2              0.377301  \n",
       "TTTGTTGGTCAGACTT-2             -0.355014  \n",
       "TTTGTTGGTGTTTACG-2             -0.891063  \n",
       "TTTGTTGTCAGAATAG-2              0.393760  \n",
       "TTTGTTGTCGAGTGGA-2             -0.419823  \n",
       "\n",
       "[7564 rows x 110 columns]"
      ]
     },
     "execution_count": 9,
     "metadata": {},
     "output_type": "execute_result"
    }
   ],
   "source": [
    "predicted_protein = pd.DataFrame(predicted_protein, columns=train_protein.var[\"protein_name\"], index=test_rna.obs.index)\n",
    "predicted_protein.to_csv(os.path.join(save_dir, \"test_protein_prediction.txt\"), sep=\"\\t\")\n",
    "predicted_protein"
   ]
  }
 ],
 "metadata": {
  "kernelspec": {
   "display_name": "scipennenv",
   "language": "python",
   "name": "scipennenv"
  },
  "language_info": {
   "codemirror_mode": {
    "name": "ipython",
    "version": 3
   },
   "file_extension": ".py",
   "mimetype": "text/x-python",
   "name": "python",
   "nbconvert_exporter": "python",
   "pygments_lexer": "ipython3",
   "version": "3.7.0"
  }
 },
 "nbformat": 4,
 "nbformat_minor": 4
}
