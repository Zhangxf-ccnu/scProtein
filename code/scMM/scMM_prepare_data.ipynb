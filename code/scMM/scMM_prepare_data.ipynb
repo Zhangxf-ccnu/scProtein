{
 "cells": [
  {
   "cell_type": "markdown",
   "metadata": {},
   "source": [
    "## Set path"
   ]
  },
  {
   "cell_type": "code",
   "execution_count": 1,
   "metadata": {},
   "outputs": [],
   "source": [
    "import os\n",
    "dataset_dir = os.path.join(os.getcwd(), 'datasets/')\n",
    "outputs_dir = os.path.join(os.getcwd(), 'outputs/')\n",
    "if not os.path.exists(outputs_dir):\n",
    "    os.makedirs(outputs_dir)\n",
    "\n",
    "save_dir = os.path.join(outputs_dir, \"different samples/CITE-SLN111-Gayoso-Mouse1toMouse2/scMM/openproblems_bmmc_cite_phase2_rna\")\n",
    "if not os.path.exists(save_dir):\n",
    "    os.makedirs(save_dir)"
   ]
  },
  {
   "cell_type": "markdown",
   "metadata": {},
   "source": [
    "## Load necessary libraries"
   ]
  },
  {
   "cell_type": "code",
   "execution_count": 2,
   "metadata": {},
   "outputs": [
    {
     "name": "stderr",
     "output_type": "stream",
     "text": [
      "/home/hongyj/.conda/envs/dance3.8/lib/python3.8/site-packages/tqdm/auto.py:21: TqdmWarning: IProgress not found. Please update jupyter and ipywidgets. See https://ipywidgets.readthedocs.io/en/stable/user_install.html\n",
      "  from .autonotebook import tqdm as notebook_tqdm\n"
     ]
    }
   ],
   "source": [
    "import anndata\n",
    "import pandas as pd"
   ]
  },
  {
   "cell_type": "markdown",
   "metadata": {},
   "source": [
    "## Load data"
   ]
  },
  {
   "cell_type": "code",
   "execution_count": 3,
   "metadata": {},
   "outputs": [
    {
     "data": {
      "text/plain": [
       "(AnnData object with n_obs × n_vars = 9264 × 13553\n",
       "     obs: 'n_protein_counts', 'n_proteins', 'seurat_hash_id', 'batch_indices', 'hash_id', 'n_genes', 'percent_mito', 'leiden_subclusters', 'cell_types'\n",
       "     var: 'gene_ids', 'feature_types', 'highly_variable', 'highly_variable_mean_variance', 'encode', 'hvg_encode'\n",
       "     uns: 'protein_name', 'version'\n",
       "     obsm: 'protein_expression',\n",
       " AnnData object with n_obs × n_vars = 7564 × 13553\n",
       "     obs: 'n_protein_counts', 'n_proteins', 'seurat_hash_id', 'batch_indices', 'hash_id', 'n_genes', 'percent_mito', 'leiden_subclusters', 'cell_types'\n",
       "     var: 'gene_ids', 'feature_types', 'highly_variable', 'highly_variable_mean_variance', 'encode', 'hvg_encode'\n",
       "     uns: 'protein_name', 'version'\n",
       "     obsm: 'protein_expression')"
      ]
     },
     "execution_count": 3,
     "metadata": {},
     "output_type": "execute_result"
    }
   ],
   "source": [
    "train_data = anndata.read(os.path.join(dataset_dir, \"different samples/CITE-SLN111-Gayoso/Mouse1.h5ad\"))\n",
    "test_data = anndata.read(os.path.join(dataset_dir, \"different samples/CITE-SLN111-Gayoso/Mouse2.h5ad\"))\n",
    "train_data, test_data"
   ]
  },
  {
   "cell_type": "markdown",
   "metadata": {},
   "source": [
    "## Convert gene expression data of the training set and test set to anndata format separately"
   ]
  },
  {
   "cell_type": "code",
   "execution_count": 4,
   "metadata": {},
   "outputs": [
    {
     "data": {
      "text/plain": [
       "(AnnData object with n_obs × n_vars = 9264 × 13553\n",
       "     obs: 'n_protein_counts', 'n_proteins', 'seurat_hash_id', 'batch_indices', 'hash_id', 'n_genes', 'percent_mito', 'leiden_subclusters', 'cell_types'\n",
       "     var: 'gene_ids', 'feature_types', 'highly_variable', 'highly_variable_mean_variance', 'encode', 'hvg_encode'\n",
       "     layers: 'counts',\n",
       " AnnData object with n_obs × n_vars = 7564 × 13553\n",
       "     obs: 'n_protein_counts', 'n_proteins', 'seurat_hash_id', 'batch_indices', 'hash_id', 'n_genes', 'percent_mito', 'leiden_subclusters', 'cell_types'\n",
       "     var: 'gene_ids', 'feature_types', 'highly_variable', 'highly_variable_mean_variance', 'encode', 'hvg_encode'\n",
       "     layers: 'counts')"
      ]
     },
     "execution_count": 4,
     "metadata": {},
     "output_type": "execute_result"
    }
   ],
   "source": [
    "train_gene_expression = train_data.X\n",
    "test_gene_expression = test_data.X\n",
    "train_rna = anndata.AnnData(X=train_gene_expression, var=train_data.var, obs=train_data.obs)\n",
    "test_rna = anndata.AnnData(X=test_gene_expression, var=test_data.var, obs=test_data.obs)\n",
    "\n",
    "train_rna.layers[\"counts\"] = train_gene_expression\n",
    "test_rna.layers[\"counts\"] = test_gene_expression\n",
    "\n",
    "train_rna, test_rna"
   ]
  },
  {
   "cell_type": "markdown",
   "metadata": {},
   "source": [
    "## Convert protein expression data of the training set and test set to anndata format separately"
   ]
  },
  {
   "cell_type": "code",
   "execution_count": 5,
   "metadata": {},
   "outputs": [
    {
     "data": {
      "text/plain": [
       "(AnnData object with n_obs × n_vars = 9264 × 110\n",
       "     obs: 'n_protein_counts', 'n_proteins', 'seurat_hash_id', 'batch_indices', 'hash_id', 'n_genes', 'percent_mito', 'leiden_subclusters', 'cell_types'\n",
       "     var: 'protein_name'\n",
       "     layers: 'counts',\n",
       " AnnData object with n_obs × n_vars = 7564 × 110\n",
       "     obs: 'n_protein_counts', 'n_proteins', 'seurat_hash_id', 'batch_indices', 'hash_id', 'n_genes', 'percent_mito', 'leiden_subclusters', 'cell_types'\n",
       "     var: 'protein_name'\n",
       "     layers: 'counts')"
      ]
     },
     "execution_count": 5,
     "metadata": {},
     "output_type": "execute_result"
    }
   ],
   "source": [
    "train_protein_expression = train_data.obsm[\"protein_expression\"]\n",
    "test_protein_expression = test_data.obsm[\"protein_expression\"]\n",
    "protein_name = pd.DataFrame(train_data.uns[\"protein_name\"], index=train_data.uns[\"protein_name\"], columns=[\"protein_name\"])\n",
    "train_protein = anndata.AnnData(X=train_protein_expression, var=protein_name, obs=train_data.obs)\n",
    "test_protein = anndata.AnnData(X=test_protein_expression, var=protein_name, obs=test_data.obs)\n",
    "\n",
    "train_protein.layers[\"counts\"] = train_protein_expression\n",
    "test_protein.layers[\"counts\"] = test_protein_expression\n",
    "\n",
    "train_protein, test_protein"
   ]
  },
  {
   "cell_type": "markdown",
   "metadata": {},
   "source": [
    "## Save prepared data"
   ]
  },
  {
   "cell_type": "code",
   "execution_count": 6,
   "metadata": {},
   "outputs": [],
   "source": [
    "\n",
    "train_rna.write(os.path.join(save_dir, \"openproblems_bmmc_cite_phase2_rna.censor_dataset.output_train_mod1.h5ad\"), compression=\"gzip\")\n",
    "test_rna.write(os.path.join(save_dir, \"openproblems_bmmc_cite_phase2_rna.censor_dataset.output_test_mod1.h5ad\"), compression=\"gzip\")\n",
    "train_protein.write(os.path.join(save_dir, \"openproblems_bmmc_cite_phase2_rna.censor_dataset.output_train_mod2.h5ad\"), compression=\"gzip\")\n",
    "test_protein.write(os.path.join(save_dir, \"openproblems_bmmc_cite_phase2_rna.censor_dataset.output_test_mod2.h5ad\"), compression=\"gzip\")"
   ]
  }
 ],
 "metadata": {
  "kernelspec": {
   "display_name": "dance3.8",
   "language": "python",
   "name": "dance3.8"
  },
  "language_info": {
   "codemirror_mode": {
    "name": "ipython",
    "version": 3
   },
   "file_extension": ".py",
   "mimetype": "text/x-python",
   "name": "python",
   "nbconvert_exporter": "python",
   "pygments_lexer": "ipython3",
   "version": "3.8.18"
  }
 },
 "nbformat": 4,
 "nbformat_minor": 4
}
